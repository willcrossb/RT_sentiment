{
 "cells": [
  {
   "cell_type": "code",
   "execution_count": 27,
   "metadata": {},
   "outputs": [
    {
     "name": "stderr",
     "output_type": "stream",
     "text": [
      "[nltk_data] Downloading package vader_lexicon to\n",
      "[nltk_data]     /Users/wcrossb/nltk_data...\n",
      "[nltk_data]   Package vader_lexicon is already up-to-date!\n",
      "[nltk_data] Downloading package words to /Users/wcrossb/nltk_data...\n",
      "[nltk_data]   Package words is already up-to-date!\n"
     ]
    }
   ],
   "source": [
    "import pandas as pd\n",
    "import numpy as np\n",
    "import re\n",
    "import nltk\n",
    "nltk.download('vader_lexicon')\n",
    "from nltk.sentiment.vader import SentimentIntensityAnalyzer\n",
    "sid = SentimentIntensityAnalyzer()\n",
    "\n",
    "nltk.download('words')\n",
    "words = set(nltk.corpus.words.words())\n"
   ]
  },
  {
   "cell_type": "code",
   "execution_count": 33,
   "metadata": {},
   "outputs": [
    {
     "name": "stdout",
     "output_type": "stream",
     "text": [
      "(716, 3)\n"
     ]
    },
    {
     "data": {
      "text/html": [
       "<div>\n",
       "<style scoped>\n",
       "    .dataframe tbody tr th:only-of-type {\n",
       "        vertical-align: middle;\n",
       "    }\n",
       "\n",
       "    .dataframe tbody tr th {\n",
       "        vertical-align: top;\n",
       "    }\n",
       "\n",
       "    .dataframe thead th {\n",
       "        text-align: right;\n",
       "    }\n",
       "</style>\n",
       "<table border=\"1\" class=\"dataframe\">\n",
       "  <thead>\n",
       "    <tr style=\"text-align: right;\">\n",
       "      <th></th>\n",
       "      <th>date</th>\n",
       "      <th>type</th>\n",
       "      <th>tweet\\r</th>\n",
       "    </tr>\n",
       "  </thead>\n",
       "  <tbody>\n",
       "    <tr>\n",
       "      <th>0</th>\n",
       "      <td>2016-01-21 06:05:44</td>\n",
       "      <td>3.0</td>\n",
       "      <td>China Crash to Trigger ‘Financial Ice Age,’ Gl...</td>\n",
       "    </tr>\n",
       "    <tr>\n",
       "      <th>1</th>\n",
       "      <td>2016-01-25 01:04:20</td>\n",
       "      <td>3.0</td>\n",
       "      <td>Australia National Australia Bank's Business C...</td>\n",
       "    </tr>\n",
       "    <tr>\n",
       "      <th>2</th>\n",
       "      <td>2016-01-28 14:00:41</td>\n",
       "      <td>3.0</td>\n",
       "      <td>\"where's mom\" \"died alrdy\" erm bitch she ur wi...</td>\n",
       "    </tr>\n",
       "    <tr>\n",
       "      <th>3</th>\n",
       "      <td>2016-01-29 07:27:36</td>\n",
       "      <td>3.0</td>\n",
       "      <td>Manufacturing production growth in Austria acc...</td>\n",
       "    </tr>\n",
       "    <tr>\n",
       "      <th>4</th>\n",
       "      <td>2016-01-29 16:39:59</td>\n",
       "      <td>3.0</td>\n",
       "      <td>.@martha_j_bailey, @dynarski look at associati...</td>\n",
       "    </tr>\n",
       "  </tbody>\n",
       "</table>\n",
       "</div>"
      ],
      "text/plain": [
       "                  date  type  \\\n",
       "0  2016-01-21 06:05:44   3.0   \n",
       "1  2016-01-25 01:04:20   3.0   \n",
       "2  2016-01-28 14:00:41   3.0   \n",
       "3  2016-01-29 07:27:36   3.0   \n",
       "4  2016-01-29 16:39:59   3.0   \n",
       "\n",
       "                                             tweet\\r  \n",
       "0  China Crash to Trigger ‘Financial Ice Age,’ Gl...  \n",
       "1  Australia National Australia Bank's Business C...  \n",
       "2  \"where's mom\" \"died alrdy\" erm bitch she ur wi...  \n",
       "3  Manufacturing production growth in Austria acc...  \n",
       "4  .@martha_j_bailey, @dynarski look at associati...  "
      ]
     },
     "execution_count": 33,
     "metadata": {},
     "output_type": "execute_result"
    }
   ],
   "source": [
    "data = pd.read_csv(\"train_dat/training_set.csv\", lineterminator='\\n')\n",
    "#print(data.shape)\n",
    "data = data[data.type > 1]\n",
    "data = data.reset_index(drop=True)\n",
    "print(data.shape)\n",
    "data.head()\n",
    "\n"
   ]
  },
  {
   "cell_type": "code",
   "execution_count": 36,
   "metadata": {},
   "outputs": [],
   "source": [
    "# Tweet text preprocessing...\n",
    "\n",
    "import json\n",
    "import collections\n",
    "import pandas as pd\n",
    "import numpy as np\n",
    "from nltk.corpus import stopwords\n",
    "import re\n",
    "from nltk.tokenize import TweetTokenizer\n",
    "def text_preprocess(text, tknzr):\n",
    "    FLAGS = re.MULTILINE | re.DOTALL\n",
    "    # Different regex parts for smiley faces\n",
    "    eyes = r\"[8:=;]\"\n",
    "    nose = r\"['`-]?\"\n",
    "    # function so code less repetitive\n",
    "    def re_sub(pattern, repl):\n",
    "        return re.sub(pattern, repl, text, flags=FLAGS)\n",
    "    text = re_sub(r\"https?://S+b|www.(w+.)+S*\", \"\")\n",
    "    text = re_sub(r\"/\",\" / \")\n",
    "    text = re_sub(r\"@w+\", \"\")\n",
    "    text = re_sub(r\"{}{}[)dD]+|[)dD]+{}{}\".format(eyes, nose, nose, eyes), \"\")\n",
    "    text = re_sub(r\"{}{}p+\".format(eyes, nose), \"\")\n",
    "    #text = re_sub(r\"{}{}(+|)+{}{}\".format(eyes, nose, nose, eyes), \"\")\n",
    "    text = re_sub(r\"{}{}[/|l*]\".format(eyes, nose), \"\")\n",
    "    text = re_sub(r\"<3\",\"\")\n",
    "    text = re_sub(r\"[-+]?[.d]*[d]+[:,.d]*\", \"\")\n",
    "    text = re_sub(r\"([!?.]){2,}\", r\"1 \")\n",
    "    text = re_sub(r\"b(S*?)(.)2{2,}b\", r\"12 \")\n",
    "    text = re_sub(r\"[A-Za-z]+[@#$%^&*()]+[A-Za-z]*\",\"abuse\")\n",
    "    tokens = tknzr.tokenize(text.lower())\n",
    "    return tokens #\" \".join(tokens)\n",
    "\n",
    "tknzr=TweetTokenizer(reduce_len=True, preserve_case=False, strip_handles=False)"
   ]
  },
  {
   "cell_type": "code",
   "execution_count": 34,
   "metadata": {},
   "outputs": [
    {
     "data": {
      "text/html": [
       "<div>\n",
       "<style scoped>\n",
       "    .dataframe tbody tr th:only-of-type {\n",
       "        vertical-align: middle;\n",
       "    }\n",
       "\n",
       "    .dataframe tbody tr th {\n",
       "        vertical-align: top;\n",
       "    }\n",
       "\n",
       "    .dataframe thead th {\n",
       "        text-align: right;\n",
       "    }\n",
       "</style>\n",
       "<table border=\"1\" class=\"dataframe\">\n",
       "  <thead>\n",
       "    <tr style=\"text-align: right;\">\n",
       "      <th></th>\n",
       "      <th>date</th>\n",
       "      <th>type</th>\n",
       "      <th>tweet\\r</th>\n",
       "      <th>categorical_label</th>\n",
       "    </tr>\n",
       "  </thead>\n",
       "  <tbody>\n",
       "    <tr>\n",
       "      <th>0</th>\n",
       "      <td>2016-01-21 06:05:44</td>\n",
       "      <td>3.0</td>\n",
       "      <td>China Crash to Trigger ‘Financial Ice Age,’ Gl...</td>\n",
       "      <td>1</td>\n",
       "    </tr>\n",
       "    <tr>\n",
       "      <th>1</th>\n",
       "      <td>2016-01-25 01:04:20</td>\n",
       "      <td>3.0</td>\n",
       "      <td>Australia National Australia Bank's Business C...</td>\n",
       "      <td>1</td>\n",
       "    </tr>\n",
       "    <tr>\n",
       "      <th>2</th>\n",
       "      <td>2016-01-28 14:00:41</td>\n",
       "      <td>3.0</td>\n",
       "      <td>\"where's mom\" \"died alrdy\" erm bitch she ur wi...</td>\n",
       "      <td>1</td>\n",
       "    </tr>\n",
       "    <tr>\n",
       "      <th>3</th>\n",
       "      <td>2016-01-29 07:27:36</td>\n",
       "      <td>3.0</td>\n",
       "      <td>Manufacturing production growth in Austria acc...</td>\n",
       "      <td>1</td>\n",
       "    </tr>\n",
       "    <tr>\n",
       "      <th>4</th>\n",
       "      <td>2016-01-29 16:39:59</td>\n",
       "      <td>3.0</td>\n",
       "      <td>.@martha_j_bailey, @dynarski look at associati...</td>\n",
       "      <td>1</td>\n",
       "    </tr>\n",
       "  </tbody>\n",
       "</table>\n",
       "</div>"
      ],
      "text/plain": [
       "                  date  type  \\\n",
       "0  2016-01-21 06:05:44   3.0   \n",
       "1  2016-01-25 01:04:20   3.0   \n",
       "2  2016-01-28 14:00:41   3.0   \n",
       "3  2016-01-29 07:27:36   3.0   \n",
       "4  2016-01-29 16:39:59   3.0   \n",
       "\n",
       "                                             tweet\\r  categorical_label  \n",
       "0  China Crash to Trigger ‘Financial Ice Age,’ Gl...                  1  \n",
       "1  Australia National Australia Bank's Business C...                  1  \n",
       "2  \"where's mom\" \"died alrdy\" erm bitch she ur wi...                  1  \n",
       "3  Manufacturing production growth in Austria acc...                  1  \n",
       "4  .@martha_j_bailey, @dynarski look at associati...                  1  "
      ]
     },
     "execution_count": 34,
     "metadata": {},
     "output_type": "execute_result"
    }
   ],
   "source": [
    "from sklearn import preprocessing\n",
    "le = preprocessing.LabelEncoder()\n",
    "le.fit(data.type)\n",
    "data['categorical_label'] = le.transform(data.type)\n",
    "data.head()"
   ]
  },
  {
   "cell_type": "code",
   "execution_count": 43,
   "metadata": {},
   "outputs": [
    {
     "name": "stdout",
     "output_type": "stream",
     "text": [
      "[1, 1, 1, 1, 0, 1, 0, 0, 1, 0, 1, 0, 1, 1, 1, 0, 0, 1, 0, 1, 1, 1, 1, 1, 0, 1, 0, 0, 0, 1, 0, 1, 0, 1, 1, 1, 1, 1, 1, 1, 1, 0, 1, 1, 1, 1, 1, 1, 1, 1, 0, 1, 0, 1, 0, 0, 0, 0, 1, 1, 1, 0, 0, 1, 1, 1, 1, 1, 1, 0, 1, 1, 1, 1, 0, 1, 1, 1, 1, 0, 0, 1, 1, 1, 1, 0, 1, 1, 1, 1, 1, 1, 0, 0, 0, 0, 0, 1, 0, 1, 0, 1, 1, 1, 1, 0, 1, 0, 0, 0, 1, 0, 0, 1, 1, 1, 0, 0, 1, 0, 1, 1, 0, 1, 1, 1, 0, 1, 1, 1, 0, 1, 0, 0, 0, 1, 1, 1, 1, 0, 0, 1, 1, 1, 1, 1, 0, 1, 1, 1, 1, 0, 1, 1, 1, 1, 1, 1, 1, 1, 1, 1, 1, 0, 1, 0, 1, 1, 0, 0, 1, 0, 0, 0, 1, 1, 1, 1, 0, 1, 1, 0, 1, 0, 1, 1, 0, 0, 1, 0, 1, 1, 0, 0, 0, 1, 1, 1, 0, 0, 1, 1, 1, 1, 0, 1, 0, 1, 1, 0, 1, 1, 1, 1, 1, 1, 0, 1, 0, 1, 0, 0, 1, 1, 1, 0, 0, 0, 1, 1, 1, 1, 1, 1, 1, 1, 1, 1, 1, 0, 1, 1, 1, 1, 0, 1, 1, 1, 1, 0, 1, 1, 1, 1, 0, 1, 0, 1, 0, 0, 1, 1, 0, 0, 1, 1, 1, 1, 1, 0, 1, 0, 0, 0, 1, 1, 1, 0, 1, 1, 1, 1, 0, 1, 1, 1, 1, 1, 0, 1, 1, 1, 1, 1, 1, 0, 0, 1, 0, 1, 0, 1, 1, 1, 1, 1, 0, 1, 1, 1, 1, 1, 1, 1, 1, 1, 1, 1, 1, 1, 1, 0, 1, 1, 1, 1, 1, 1, 1, 0, 0, 0, 1, 0, 1, 1, 0, 1, 1, 1, 1, 1, 1, 1, 1, 0, 1, 0, 0, 1, 1, 1, 1, 1, 1, 0, 1, 1, 1, 0, 0, 1, 1, 1, 1, 1, 0, 1, 1, 0, 0, 1, 1, 0, 1, 0, 0, 1, 0, 1, 0, 1, 0, 1, 1, 1, 0, 0, 1, 0, 1, 0, 1, 1, 1, 1, 0, 1, 1, 1, 1, 1, 1, 1, 0, 0, 1, 0, 1, 1, 1, 1, 1, 1, 0, 1, 1, 1, 0, 1, 1, 0, 0, 1, 1, 1, 1, 1, 1, 0, 1, 1, 1, 1, 0, 0, 0, 0, 1, 1, 1, 1, 0, 1, 1, 1, 1, 1, 0, 0, 1, 0, 1, 0, 1, 0, 1, 1, 1, 1, 1, 1, 0, 1, 1, 0, 1, 1, 1, 1, 1, 1, 0, 0, 0, 1, 1, 1, 1, 0, 1, 1, 0, 0, 0, 1, 1, 1, 0, 1, 1, 0, 0, 0, 0, 0, 1, 0, 0, 1, 1]\n"
     ]
    }
   ],
   "source": [
    "X = []\n",
    "Y = []\n",
    "for idx in data.index:\n",
    "  X.append(text_preprocess(data['tweet\\r'][idx], tknzr))\n",
    "  Y.append(data['categorical_label'][idx])\n",
    "# Train-Test splitting\n",
    "from sklearn.model_selection import train_test_split\n",
    "X_train, X_test, Y_train, Y_test = train_test_split(X, Y, test_size=0.3)\n",
    "labels = ['Negative','Neutral']  # For further use...\n",
    "print(Y_train)"
   ]
  },
  {
   "cell_type": "code",
   "execution_count": 50,
   "metadata": {},
   "outputs": [],
   "source": [
    "from sklearn.metrics import classification_report, confusion_matrix\n",
    "import seaborn as sn\n",
    "import pandas as pd\n",
    "import matplotlib.pyplot as plt\n",
    "# This utility function will be used to evaluate the other models also.\n",
    "def show_performance_data(Y_test, Y_pred, model_name):\n",
    "  print(classification_report(Y_test, Y_pred, target_names=labels))\n",
    "  tmp_result = classification_report(Y_test, Y_pred, target_names=labels, output_dict=True)\n",
    "  cm1 = confusion_matrix(Y_test, Y_pred)\n",
    "  df_cm = pd.DataFrame(cm1, index = [i for i in labels], columns = [i for i in labels])\n",
    "  plt.figure(figsize = (7,5))\n",
    "  sn.heatmap(df_cm, annot=True,cmap='gist_earth_r', fmt='g')\n",
    "  plt.savefig('confusion_mrtx_'+model_name+'.png',bbox_inches = 'tight')\n",
    "  return tmp_result\n",
    "\n"
   ]
  },
  {
   "cell_type": "code",
   "execution_count": 57,
   "metadata": {},
   "outputs": [],
   "source": [
    "import os\n",
    "from gensim.corpora import Dictionary\n",
    "import gensim\n",
    "from gensim.matutils import cossim\n",
    "topic = 15\n",
    "Lda = gensim.models.ldamodel.LdaModel\n",
    "dictionary = Dictionary(X_train)\n",
    "train_corpus = [dictionary.doc2bow(doc) for doc in X_train]\n",
    "model = Lda(corpus=train_corpus, id2word=dictionary, num_topics=topic)\n",
    "test_corpus = [dictionary.doc2bow(doc) for doc in X_test]\n",
    "train_x_topics, test_x_topics = [], []\n",
    "# Convert text data into topic vectors\n",
    "for t in train_corpus:\n",
    "  train_x_topics.append(model[t])\n",
    "for t in test_corpus:\n",
    "  test_x_topics.append(model[t])\n",
    "# Prediction\n",
    "Y_pred = []\n",
    "for i in range(len(test_x_topics)):\n",
    "  tst = test_x_topics[i]\n",
    "  sim = [cossim(tst, tr_t) for tr_t in train_x_topics]\n",
    "  idx = np.array(sim).argsort()[-1]\n",
    "  Y_pred.append(Y_train[idx])"
   ]
  },
  {
   "cell_type": "code",
   "execution_count": 58,
   "metadata": {},
   "outputs": [
    {
     "name": "stdout",
     "output_type": "stream",
     "text": [
      "              precision    recall  f1-score   support\n",
      "\n",
      "    Negative       0.29      0.17      0.22        69\n",
      "     Neutral       0.67      0.79      0.73       146\n",
      "\n",
      "    accuracy                           0.60       215\n",
      "   macro avg       0.48      0.48      0.47       215\n",
      "weighted avg       0.55      0.60      0.56       215\n",
      "\n"
     ]
    },
    {
     "data": {
      "image/png": "[encoded data removed]",
      "text/plain": [
       "<Figure size 504x360 with 2 Axes>"
      ]
     },
     "metadata": {
      "needs_background": "light"
     },
     "output_type": "display_data"
    }
   ],
   "source": [
    "result_lda = show_performance_data(Y_test, Y_pred, 'lda')\n"
   ]
  },
  {
   "cell_type": "code",
   "execution_count": 60,
   "metadata": {},
   "outputs": [
    {
     "name": "stderr",
     "output_type": "stream",
     "text": [
      "/var/folders/3_/4hp02k9s28l0xngsnvfp3jl40000gn/T/ipykernel_96445/2946354389.py:9: DeprecationWarning: Call to deprecated `docvecs` (The `docvecs` property has been renamed `dv`.).\n",
      "  sims = model.docvecs.most_similar(positive = [test_doc_vector])\n"
     ]
    },
    {
     "name": "stdout",
     "output_type": "stream",
     "text": [
      "              precision    recall  f1-score   support\n",
      "\n",
      "    Negative       0.26      0.17      0.21        69\n",
      "     Neutral       0.66      0.77      0.71       146\n",
      "\n",
      "    accuracy                           0.58       215\n",
      "   macro avg       0.46      0.47      0.46       215\n",
      "weighted avg       0.53      0.58      0.55       215\n",
      "\n"
     ]
    },
    {
     "data": {
      "image/png": "[encoded data removed]",
      "text/plain": [
       "<Figure size 504x360 with 2 Axes>"
      ]
     },
     "metadata": {
      "needs_background": "light"
     },
     "output_type": "display_data"
    }
   ],
   "source": [
    "from gensim.test.utils import common_texts\n",
    "from gensim.models.doc2vec import Doc2Vec, TaggedDocument\n",
    "vec = 100\n",
    "tagged_corpus = [TaggedDocument(d, [i]) for i, d in enumerate(X_train)]\n",
    "model = Doc2Vec(tagged_corpus, vector_size=vec, window=3, dm=1, min_count=1, workers=4)\n",
    "Y_pred = []\n",
    "for a in X_test:\n",
    "  test_doc_vector = model.infer_vector(a)\n",
    "  sims = model.docvecs.most_similar(positive = [test_doc_vector])\n",
    "  Y_pred.append(Y_train[sims[0][0]])\n",
    "result_doc2vec = show_performance_data(Y_test, Y_pred, 'doc2vec')"
   ]
  },
  {
   "cell_type": "code",
   "execution_count": 61,
   "metadata": {},
   "outputs": [
    {
     "ename": "NameError",
     "evalue": "name 'train_vectors' is not defined",
     "output_type": "error",
     "traceback": [
      "\u001b[0;31m---------------------------------------------------------------------------\u001b[0m",
      "\u001b[0;31mNameError\u001b[0m                                 Traceback (most recent call last)",
      "\u001b[1;32m/Users/wcrossb/Desktop/python/projects/personal/RT_sentiment/relevance_check.ipynb Cell 10\u001b[0m in \u001b[0;36m<cell line: 2>\u001b[0;34m()\u001b[0m\n\u001b[1;32m      <a href='vscode-notebook-cell:/Users/wcrossb/Desktop/python/projects/personal/RT_sentiment/relevance_check.ipynb#X12sZmlsZQ%3D%3D?line=0'>1</a>\u001b[0m \u001b[39mfrom\u001b[39;00m \u001b[39msklearn\u001b[39;00m\u001b[39m.\u001b[39;00m\u001b[39mensemble\u001b[39;00m \u001b[39mimport\u001b[39;00m GradientBoostingClassifier\n\u001b[0;32m----> <a href='vscode-notebook-cell:/Users/wcrossb/Desktop/python/projects/personal/RT_sentiment/relevance_check.ipynb#X12sZmlsZQ%3D%3D?line=1'>2</a>\u001b[0m clf \u001b[39m=\u001b[39m GradientBoostingClassifier(n_estimators\u001b[39m=\u001b[39m\u001b[39m15\u001b[39m, learning_rate\u001b[39m=\u001b[39m\u001b[39m1.0\u001b[39m,max_depth\u001b[39m=\u001b[39m\u001b[39m1\u001b[39m, random_state\u001b[39m=\u001b[39m\u001b[39m0\u001b[39m)\u001b[39m.\u001b[39mfit(train_vectors, Y_train)\n\u001b[1;32m      <a href='vscode-notebook-cell:/Users/wcrossb/Desktop/python/projects/personal/RT_sentiment/relevance_check.ipynb#X12sZmlsZQ%3D%3D?line=2'>3</a>\u001b[0m Y_pred \u001b[39m=\u001b[39m clf\u001b[39m.\u001b[39mpredict(test_vectors)\n\u001b[1;32m      <a href='vscode-notebook-cell:/Users/wcrossb/Desktop/python/projects/personal/RT_sentiment/relevance_check.ipynb#X12sZmlsZQ%3D%3D?line=3'>4</a>\u001b[0m result_grdbst \u001b[39m=\u001b[39m show_performance_data(Y_test, Y_pred, \u001b[39m'\u001b[39m\u001b[39mgrdbst\u001b[39m\u001b[39m'\u001b[39m)\n",
      "\u001b[0;31mNameError\u001b[0m: name 'train_vectors' is not defined"
     ]
    }
   ],
   "source": []
  }
 ],
 "metadata": {
  "kernelspec": {
   "display_name": "Python 3.9.12 ('base')",
   "language": "python",
   "name": "python3"
  },
  "language_info": {
   "codemirror_mode": {
    "name": "ipython",
    "version": 3
   },
   "file_extension": ".py",
   "mimetype": "text/x-python",
   "name": "python",
   "nbconvert_exporter": "python",
   "pygments_lexer": "ipython3",
   "version": "3.9.12"
  },
  "orig_nbformat": 4,
  "vscode": {
   "interpreter": {
    "hash": "bb21f767a211495abec8bf77423259a843a4f607ac418d71c8e2c640fac1142a"
   }
  }
 },
 "nbformat": 4,
 "nbformat_minor": 2
}
