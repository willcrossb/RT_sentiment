{
 "cells": [
  {
   "cell_type": "code",
   "execution_count": 2,
   "metadata": {},
   "outputs": [],
   "source": [
    "import pandas as pd\n",
    "import numpy as np\n",
    "import nest_asyncio\n",
    "from datetime import datetime, timedelta, date\n",
    "\n",
    "nest_asyncio.apply()\n",
    "import twint\n",
    "\n",
    "def query_twitter(date, cutoff_date, term, limit):\n",
    "    c = twint.Config()\n",
    "    c.Search = term\n",
    "    c.Limit = limit\n",
    "    c.Since = date\n",
    "    c.Until = cutoff_date\n",
    "    c.Pandas = True\n",
    "    c.Utc = True\n",
    "    c.Full_text = True\n",
    "    twint.run.Search(c)\n",
    "    df = twint.storage.panda.Tweets_df\n",
    "    if df.empty == False:\n",
    "        df = df[['date','tweet']]\n",
    "\n",
    "    return df"
   ]
  },
  {
   "cell_type": "code",
   "execution_count": 3,
   "metadata": {},
   "outputs": [
    {
     "name": "stdout",
     "output_type": "stream",
     "text": [
      "['\"Better financially\"', '\"Worse financially\"', '\"Business conditions\"', '\"Business environment\"', '\"State of the economy\"', '\"Unemployment\"', '\"Economic Depression\"', '\"Government Economic Policy\"', '\"Out of work\"', '\"Economic policy\"', '\"Interest rates\"', '\"Rising prices\"', '\"Disposable income\"', '\"Incomes\"', '\"Family income\"', '\"Gasoline prices\"', '\"Own a home\"', '\"Market value of home\"', '\"House prices\"', '\"Inflation\"', '\"Standard of living\"', '\"Stock market\"', '\"Cost of living\"']\n"
     ]
    }
   ],
   "source": [
    "df_kws = pd.read_csv(\"kws/kws.csv\")\n",
    "x = lambda a : f'\"{a}\"'\n",
    "df_kws_prep = df_kws['Indicator'].apply(x)\n",
    "kw_list = df_kws_prep.values.tolist()\n",
    "print(kw_list)"
   ]
  },
  {
   "cell_type": "code",
   "execution_count": 4,
   "metadata": {},
   "outputs": [],
   "source": [
    "%%capture\n",
    "\n",
    "startDate = datetime(2019, 2, 25)\n",
    "endDate = datetime(2019, 10, 29)\n",
    "addDays = timedelta(days=1)\n",
    "\n",
    "df_store = pd.read_csv(\"data/stored_vars_hr_update.csv\")\n",
    "\n",
    "while startDate <= endDate:\n",
    "    for term in kw_list:\n",
    "    \n",
    "        # add a month\n",
    "        End_d = startDate + timedelta(hours=24)\n",
    "    \n",
    "        s_d = startDate.strftime(\"%Y-%m-%d\")\n",
    "        e_d = End_d.strftime(\"%Y-%m-%d\")\n",
    "        print(s_d)\n",
    "        print(e_d)\n",
    "\n",
    "        df_add = query_twitter(s_d,e_d,term,100)\n",
    "        df_store = df_store.append(df_add)\n",
    "        df_store.to_csv(\"data/stored_vars_hr_update.csv\")\n",
    "        \n",
    "    startDate += addDays\n",
    "\n"
   ]
  },
  {
   "cell_type": "code",
   "execution_count": null,
   "metadata": {},
   "outputs": [],
   "source": [
    "c = twint.Config()\n",
    "c.Search = kw_list[0]\n",
    "c.Limit = 100\n",
    "c.Since = '2018-01-01'\n",
    "#c.Until = '2019-01-01'\n",
    "c.Pandas = True\n",
    "c.Utc = True\n",
    "c.Full_text = True\n",
    "twint.run.Search(c)\n",
    "df = twint.storage.panda.Tweets_df\n",
    "df = df[['date','tweet','hashtags']]\n",
    "\n",
    "df.to_csv(\"tester.csv\")"
   ]
  }
 ],
 "metadata": {
  "kernelspec": {
   "display_name": "Python 3.9.12 ('base')",
   "language": "python",
   "name": "python3"
  },
  "language_info": {
   "codemirror_mode": {
    "name": "ipython",
    "version": 3
   },
   "file_extension": ".py",
   "mimetype": "text/x-python",
   "name": "python",
   "nbconvert_exporter": "python",
   "pygments_lexer": "ipython3",
   "version": "3.9.12"
  },
  "orig_nbformat": 4,
  "vscode": {
   "interpreter": {
    "hash": "bb21f767a211495abec8bf77423259a843a4f607ac418d71c8e2c640fac1142a"
   }
  }
 },
 "nbformat": 4,
 "nbformat_minor": 2
}
