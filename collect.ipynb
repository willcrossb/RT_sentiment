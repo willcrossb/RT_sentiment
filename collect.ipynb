{
 "cells": [
  {
   "cell_type": "code",
   "execution_count": 4,
   "metadata": {},
   "outputs": [],
   "source": [
    "import pandas as pd\n",
    "import numpy as np\n",
    "from datetime import datetime, timedelta, date\n",
    "\n",
    "import nest_asyncio\n",
    "nest_asyncio.apply()\n",
    "import twint\n",
    "\n",
    "def query_twitter(date, cutoff_date, term, limit):\n",
    "    c = twint.Config()\n",
    "    c.Search = term\n",
    "    c.Limit = limit\n",
    "    c.Since = date\n",
    "    c.Until = cutoff_date\n",
    "    c.Pandas = True\n",
    "    c.Utc = True\n",
    "    c.Full_text = True\n",
    "    twint.run.Search(c)\n",
    "    df = twint.storage.panda.Tweets_df\n",
    "    if df.empty == False:\n",
    "        df = df[['date','tweet']]\n",
    "\n",
    "    return df"
   ]
  },
  {
   "cell_type": "code",
   "execution_count": 5,
   "metadata": {},
   "outputs": [
    {
     "name": "stdout",
     "output_type": "stream",
     "text": [
      "['\"Better financially\"', '\"Worse financially\"', '\"Business conditions\"', '\"Business environment\"', '\"State of the economy\"', '\"Unemployment\"', '\"Economic Depression\"', '\"Government Economic Policy\"', '\"Out of work\"', '\"Economic policy\"', '\"Interest rates\"', '\"Rising prices\"', '\"Disposable income\"', '\"Incomes\"', '\"Family income\"', '\"Gasoline prices\"', '\"Own a home\"', '\"Market value of home\"', '\"House prices\"', '\"Inflation\"', '\"Standard of living\"', '\"Stock market\"', '\"Cost of living\"']\n"
     ]
    }
   ],
   "source": [
    "df_kws = pd.read_csv(\"kws/kws.csv\")\n",
    "x = lambda a : f'\"{a}\"'\n",
    "df_kws_prep = df_kws['Indicator'].apply(x)\n",
    "kw_list = df_kws_prep.values.tolist()\n",
    "print(kw_list)"
   ]
  },
  {
   "cell_type": "code",
   "execution_count": 9,
   "metadata": {},
   "outputs": [
    {
     "ename": "RefreshTokenException",
     "evalue": "Could not find the Guest token in HTML",
     "output_type": "error",
     "traceback": [
      "\u001b[0;31m---------------------------------------------------------------------------\u001b[0m",
      "\u001b[0;31mRefreshTokenException\u001b[0m                     Traceback (most recent call last)",
      "\u001b[1;32m/Users/wcrossb/Library/Mobile Documents/com~apple~CloudDocs/Desktop/Desktop - Will’s MacBook Pro/python/projects/personal/RT_sentiment/collect.ipynb Cell 3\u001b[0m in \u001b[0;36m<cell line: 7>\u001b[0;34m()\u001b[0m\n\u001b[1;32m     <a href='vscode-notebook-cell:/Users/wcrossb/Library/Mobile%20Documents/com~apple~CloudDocs/Desktop/Desktop%20-%20Will%E2%80%99s%20MacBook%20Pro/python/projects/personal/RT_sentiment/collect.ipynb#W2sZmlsZQ%3D%3D?line=14'>15</a>\u001b[0m \u001b[39mprint\u001b[39m(s_d)\n\u001b[1;32m     <a href='vscode-notebook-cell:/Users/wcrossb/Library/Mobile%20Documents/com~apple~CloudDocs/Desktop/Desktop%20-%20Will%E2%80%99s%20MacBook%20Pro/python/projects/personal/RT_sentiment/collect.ipynb#W2sZmlsZQ%3D%3D?line=15'>16</a>\u001b[0m \u001b[39mprint\u001b[39m(e_d)\n\u001b[0;32m---> <a href='vscode-notebook-cell:/Users/wcrossb/Library/Mobile%20Documents/com~apple~CloudDocs/Desktop/Desktop%20-%20Will%E2%80%99s%20MacBook%20Pro/python/projects/personal/RT_sentiment/collect.ipynb#W2sZmlsZQ%3D%3D?line=17'>18</a>\u001b[0m df_add \u001b[39m=\u001b[39m query_twitter(s_d,e_d,term,\u001b[39m100\u001b[39;49m)\n\u001b[1;32m     <a href='vscode-notebook-cell:/Users/wcrossb/Library/Mobile%20Documents/com~apple~CloudDocs/Desktop/Desktop%20-%20Will%E2%80%99s%20MacBook%20Pro/python/projects/personal/RT_sentiment/collect.ipynb#W2sZmlsZQ%3D%3D?line=18'>19</a>\u001b[0m df_store \u001b[39m=\u001b[39m df_store\u001b[39m.\u001b[39mappend(df_add)\n\u001b[1;32m     <a href='vscode-notebook-cell:/Users/wcrossb/Library/Mobile%20Documents/com~apple~CloudDocs/Desktop/Desktop%20-%20Will%E2%80%99s%20MacBook%20Pro/python/projects/personal/RT_sentiment/collect.ipynb#W2sZmlsZQ%3D%3D?line=19'>20</a>\u001b[0m \u001b[39m#df_store.to_csv(\"data/stored_vars_hr_update_2016.csv\")\u001b[39;00m\n",
      "\u001b[1;32m/Users/wcrossb/Library/Mobile Documents/com~apple~CloudDocs/Desktop/Desktop - Will’s MacBook Pro/python/projects/personal/RT_sentiment/collect.ipynb Cell 3\u001b[0m in \u001b[0;36mquery_twitter\u001b[0;34m(date, cutoff_date, term, limit)\u001b[0m\n\u001b[1;32m     <a href='vscode-notebook-cell:/Users/wcrossb/Library/Mobile%20Documents/com~apple~CloudDocs/Desktop/Desktop%20-%20Will%E2%80%99s%20MacBook%20Pro/python/projects/personal/RT_sentiment/collect.ipynb#W2sZmlsZQ%3D%3D?line=15'>16</a>\u001b[0m c\u001b[39m.\u001b[39mUtc \u001b[39m=\u001b[39m \u001b[39mTrue\u001b[39;00m\n\u001b[1;32m     <a href='vscode-notebook-cell:/Users/wcrossb/Library/Mobile%20Documents/com~apple~CloudDocs/Desktop/Desktop%20-%20Will%E2%80%99s%20MacBook%20Pro/python/projects/personal/RT_sentiment/collect.ipynb#W2sZmlsZQ%3D%3D?line=16'>17</a>\u001b[0m c\u001b[39m.\u001b[39mFull_text \u001b[39m=\u001b[39m \u001b[39mTrue\u001b[39;00m\n\u001b[0;32m---> <a href='vscode-notebook-cell:/Users/wcrossb/Library/Mobile%20Documents/com~apple~CloudDocs/Desktop/Desktop%20-%20Will%E2%80%99s%20MacBook%20Pro/python/projects/personal/RT_sentiment/collect.ipynb#W2sZmlsZQ%3D%3D?line=17'>18</a>\u001b[0m twint\u001b[39m.\u001b[39;49mrun\u001b[39m.\u001b[39;49mSearch(c)\n\u001b[1;32m     <a href='vscode-notebook-cell:/Users/wcrossb/Library/Mobile%20Documents/com~apple~CloudDocs/Desktop/Desktop%20-%20Will%E2%80%99s%20MacBook%20Pro/python/projects/personal/RT_sentiment/collect.ipynb#W2sZmlsZQ%3D%3D?line=18'>19</a>\u001b[0m df \u001b[39m=\u001b[39m twint\u001b[39m.\u001b[39mstorage\u001b[39m.\u001b[39mpanda\u001b[39m.\u001b[39mTweets_df\n\u001b[1;32m     <a href='vscode-notebook-cell:/Users/wcrossb/Library/Mobile%20Documents/com~apple~CloudDocs/Desktop/Desktop%20-%20Will%E2%80%99s%20MacBook%20Pro/python/projects/personal/RT_sentiment/collect.ipynb#W2sZmlsZQ%3D%3D?line=19'>20</a>\u001b[0m \u001b[39mif\u001b[39;00m df\u001b[39m.\u001b[39mempty \u001b[39m==\u001b[39m \u001b[39mFalse\u001b[39;00m:\n",
      "File \u001b[0;32m~/opt/anaconda3/lib/python3.9/site-packages/twint/run.py:410\u001b[0m, in \u001b[0;36mSearch\u001b[0;34m(config, callback)\u001b[0m\n\u001b[1;32m    408\u001b[0m config\u001b[39m.\u001b[39mFollowers \u001b[39m=\u001b[39m \u001b[39mFalse\u001b[39;00m\n\u001b[1;32m    409\u001b[0m config\u001b[39m.\u001b[39mProfile \u001b[39m=\u001b[39m \u001b[39mFalse\u001b[39;00m\n\u001b[0;32m--> 410\u001b[0m run(config, callback)\n\u001b[1;32m    411\u001b[0m \u001b[39mif\u001b[39;00m config\u001b[39m.\u001b[39mPandas_au:\n\u001b[1;32m    412\u001b[0m     storage\u001b[39m.\u001b[39mpanda\u001b[39m.\u001b[39m_autoget(\u001b[39m\"\u001b[39m\u001b[39mtweet\u001b[39m\u001b[39m\"\u001b[39m)\n",
      "File \u001b[0;32m~/opt/anaconda3/lib/python3.9/site-packages/twint/run.py:329\u001b[0m, in \u001b[0;36mrun\u001b[0;34m(config, callback)\u001b[0m\n\u001b[1;32m    325\u001b[0m     logme\u001b[39m.\u001b[39mexception(\n\u001b[1;32m    326\u001b[0m         \u001b[39m__name__\u001b[39m \u001b[39m+\u001b[39m \u001b[39m'\u001b[39m\u001b[39m:run:Unexpected exception occurred while attempting to get or create a new event loop.\u001b[39m\u001b[39m'\u001b[39m)\n\u001b[1;32m    327\u001b[0m     \u001b[39mraise\u001b[39;00m\n\u001b[0;32m--> 329\u001b[0m get_event_loop()\u001b[39m.\u001b[39mrun_until_complete(Twint(config)\u001b[39m.\u001b[39mmain(callback))\n",
      "File \u001b[0;32m~/opt/anaconda3/lib/python3.9/site-packages/twint/run.py:36\u001b[0m, in \u001b[0;36mTwint.__init__\u001b[0;34m(self, config)\u001b[0m\n\u001b[1;32m     33\u001b[0m \u001b[39m# TODO might have to make some adjustments for it to work with multi-treading\u001b[39;00m\n\u001b[1;32m     34\u001b[0m \u001b[39m# USAGE : to get a new guest token simply do `self.token.refresh()`\u001b[39;00m\n\u001b[1;32m     35\u001b[0m \u001b[39mself\u001b[39m\u001b[39m.\u001b[39mtoken \u001b[39m=\u001b[39m token\u001b[39m.\u001b[39mToken(config)\n\u001b[0;32m---> 36\u001b[0m \u001b[39mself\u001b[39;49m\u001b[39m.\u001b[39;49mtoken\u001b[39m.\u001b[39;49mrefresh()\n\u001b[1;32m     37\u001b[0m \u001b[39mself\u001b[39m\u001b[39m.\u001b[39mconn \u001b[39m=\u001b[39m db\u001b[39m.\u001b[39mConn(config\u001b[39m.\u001b[39mDatabase)\n\u001b[1;32m     38\u001b[0m \u001b[39mself\u001b[39m\u001b[39m.\u001b[39md \u001b[39m=\u001b[39m datelock\u001b[39m.\u001b[39mSet(\u001b[39mself\u001b[39m\u001b[39m.\u001b[39mconfig\u001b[39m.\u001b[39mUntil, \u001b[39mself\u001b[39m\u001b[39m.\u001b[39mconfig\u001b[39m.\u001b[39mSince)\n",
      "File \u001b[0;32m~/opt/anaconda3/lib/python3.9/site-packages/twint/token.py:94\u001b[0m, in \u001b[0;36mToken.refresh\u001b[0;34m(self)\u001b[0m\n\u001b[1;32m     92\u001b[0m \u001b[39melse\u001b[39;00m:\n\u001b[1;32m     93\u001b[0m     \u001b[39mself\u001b[39m\u001b[39m.\u001b[39mconfig\u001b[39m.\u001b[39mGuest_token \u001b[39m=\u001b[39m \u001b[39mNone\u001b[39;00m\n\u001b[0;32m---> 94\u001b[0m     \u001b[39mraise\u001b[39;00m RefreshTokenException(\u001b[39m'\u001b[39m\u001b[39mCould not find the Guest token in HTML\u001b[39m\u001b[39m'\u001b[39m)\n",
      "\u001b[0;31mRefreshTokenException\u001b[0m: Could not find the Guest token in HTML"
     ]
    }
   ],
   "source": [
    "%%capture\n",
    "#Format Y,M, D\n",
    "startDate = datetime(2023, 1, 22)\n",
    "endDate = datetime(2023, 4, 14)\n",
    "addDays = timedelta(days=1)\n",
    "df_store = pd.DataFrame()\n",
    "\n",
    "while startDate <= endDate:\n",
    "    for term in kw_list:\n",
    "    \n",
    "        # add a month\n",
    "        End_d = startDate + timedelta(hours=24)\n",
    "    \n",
    "        s_d = startDate.strftime(\"%Y-%m-%d\")\n",
    "        e_d = End_d.strftime(\"%Y-%m-%d\")\n",
    "        print(s_d)\n",
    "        print(e_d)\n",
    "\n",
    "        df_add = query_twitter(s_d,e_d,term,100)\n",
    "        df_store = df_store.append(df_add)\n",
    "        #df_store.to_csv(\"data/stored_vars_hr_update_2016.csv\")\n",
    "        \n",
    "    startDate += addDays\n",
    "\n",
    "df_store.to_pickle(\"data/collect_add2.pkl\")"
   ]
  },
  {
   "cell_type": "code",
   "execution_count": 8,
   "metadata": {},
   "outputs": [],
   "source": [
    "df_store.to_pickle(\"data/collect_add.pkl\")"
   ]
  },
  {
   "cell_type": "code",
   "execution_count": null,
   "metadata": {},
   "outputs": [],
   "source": [
    "#Leftover code can be used for spot testing a twint Query\n",
    "\n",
    "# c = twint.Config()\n",
    "# c.Search = kw_list[0]\n",
    "# c.Limit = 100\n",
    "# c.Since = '2018-01-01'\n",
    "# c.Until = '2019-01-01'\n",
    "# c.Pandas = True\n",
    "# c.Utc = True\n",
    "# c.Full_text = True\n",
    "# twint.run.Search(c)\n",
    "# df = twint.storage.panda.Tweets_df\n",
    "# df = df[['date','tweet','hashtags']]\n",
    "\n",
    "# df.to_csv(\"tester.csv\")"
   ]
  }
 ],
 "metadata": {
  "kernelspec": {
   "display_name": "Python 3.9.12 ('base')",
   "language": "python",
   "name": "python3"
  },
  "language_info": {
   "codemirror_mode": {
    "name": "ipython",
    "version": 3
   },
   "file_extension": ".py",
   "mimetype": "text/x-python",
   "name": "python",
   "nbconvert_exporter": "python",
   "pygments_lexer": "ipython3",
   "version": "3.9.12"
  },
  "orig_nbformat": 4,
  "vscode": {
   "interpreter": {
    "hash": "bb21f767a211495abec8bf77423259a843a4f607ac418d71c8e2c640fac1142a"
   }
  }
 },
 "nbformat": 4,
 "nbformat_minor": 2
}
